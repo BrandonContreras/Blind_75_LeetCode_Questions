{
 "cells": [
  {
   "cell_type": "markdown",
   "metadata": {},
   "source": [
    "# Blind Curated 75 Problems\n",
    "### Personal Rules:\n",
    "1. After completing each question, write a summary explaining the problem and it's solution. Write Anki questions pertaining to the problem.\n",
    "2. Comment all code properly.\n",
    "3. Document useful python functions at end of notebook.\n",
    "4. You are allowed to love yourself once you finish all 75 questions in O(1) time.\n",
    "\n",
    "\n",
    "### General Guidance:\n",
    "> Break down problem first and create tests + edge cases.\n",
    ">\n",
    "> State the algorithm/solution in plain English before attempting to code.\n",
    ">\n",
    "> Brute force the solution first, then optimize\n",
    ">\n",
    "> “Premature optimization is the root of all evil”\n",
    ">\n"
   ]
  },
  {
   "cell_type": "markdown",
   "metadata": {},
   "source": [
    "# #1. Two-Sum[Complement]\n",
    "Given an array of integers, return indices of the two numbers such that they add up to a specific target.  \n",
    "\n",
    "You may assume that each input would have exactly one solution, and you may not use the same element twice.\n",
    "\n",
    " #### Example:\n",
    " Given the array nums = [2, 7, 11, 15] and the target = 9  \n",
    " \n",
    " Because nums[0] + nums[1] = 2 + 7 = 9  \n",
    " \n",
    " return [0, 1]."
   ]
  },
  {
   "cell_type": "code",
   "execution_count": 1,
   "metadata": {},
   "outputs": [],
   "source": [
    "class Solution(object):\n",
    "    def twoSum(self, nums, target):\n",
    "        \"\"\"\n",
    "        :type nums: List[int]\n",
    "        :type target: int\n",
    "        :rtype: List[int]\n",
    "        \"\"\"\n",
    "        # Think of simple solution then refine\n",
    "        # Simple solution is O(n^2), just do a double loop for each entry. Space is O(1)\n",
    "        # Dictionary brings time to O(1), but increases space to O(n). Remember there is always a tradeoff\n",
    "\n",
    "        # Dictionary stores and retrieves a value given a KEY\n",
    "        # We can find the VALUE in constant time, given the KEY\n",
    "        # Goal: return indices\n",
    "\n",
    "        # BRUTE-FORCE:\n",
    "        answer = []  # List for the 2 indexes for answer\n",
    "        outer_count = 0\n",
    "        inner_count = 0\n",
    "        for num in nums:\n",
    "            for number in nums:\n",
    "                if (num + number) == target:\n",
    "                    answer.append(outer_count)\n",
    "                    answer.append(inner_count)\n",
    "                    return answer\n",
    "                inner_count += 1\n",
    "            outer_count += 1\n",
    "\n",
    "        # OPTIMAL-SOLUTION:\n",
    "        # Make a dictionary with the 'key' being the difference between TARGET and NUM_VALUE\n",
    "        # Then we can see if that complement ALREADY exists in the dictionary in CONSTANT TIME\n",
    "        # Think of a + b = target\n",
    "        # a = target - b\n",
    "        # b = target - a\n",
    "\n",
    "        dict = {}  # Create our empty dictionary\n",
    "\n",
    "        # use enumerate for an automatic counter for the index\n",
    "        for index, num in enumerate(nums):\n",
    "            # Answer found. We already have logged the complement.\n",
    "            if dict.get(num) != None:\n",
    "                return [dict.get(num), index]\n",
    "            else:\n",
    "                # Store the complement as the KEY and the VALUE is the index in nums we found at\n",
    "                dict[target - num] = index"
   ]
  },
  {
   "cell_type": "markdown",
   "metadata": {},
   "source": [
    "# #2. Longest Substring without Repeating Characters [Sliding Window]\n",
    "Given a string, find the length of the longest substring without repeating characters. \n",
    "### Walkthrough:  \n",
    "It's a sliding window problem. Use two pointers, one that starts at the safe character, the other advances finding new characters and expands window until it hits repeat. Keep track of all time max.  \n",
    "- Here the advance pointer will simply be the 'i' in the for loop.\n",
    "\n",
    "### Analysis:  \n",
    "The runtime is O(n) as it will have to scan the whole string only once. The space is also O(n) as we need to create a  \n",
    "dictionary for all the characters in the string."
   ]
  },
  {
   "cell_type": "code",
   "execution_count": 2,
   "metadata": {},
   "outputs": [],
   "source": [
    "def lengthOfLongestSubstring(s):\n",
    "    dict = {}\n",
    "    \n",
    "    max_length = start_ptr = 0\n",
    "    \n",
    "    for i, char in enumerate(s):\n",
    "        \n",
    "        # start_ptr <= dict[char] is to see if this repeat character is currently IN our sliding window. \n",
    "        # if dict[char] is < start_ptr, it means that this is an old old character not currently in the substring we are \n",
    "        # looking for.\n",
    "        \n",
    "        # REPEAT CHARACTER\n",
    "        if char in dict and start_ptr <= dict[char]:\n",
    "            \n",
    "            # We are going to set the start to the char AFTER the 'start' character\n",
    "            # in search of the longest substring. \n",
    "            start_ptr = dict[char] + 1 \n",
    "        \n",
    "        # NEW CHARACTER\n",
    "        else:\n",
    "            \n",
    "            #Current max = Index of current spot + 1 as zero indexed, minus the start of the window.\n",
    "            max_length = max(max_length, i - start_ptr + 1)\n",
    "        \n",
    "        # Finally add/overwrite the character found\n",
    "        dict[char] = i\n",
    "        \n",
    "    return max_length"
   ]
  },
  {
   "cell_type": "markdown",
   "metadata": {},
   "source": [
    "### Testing"
   ]
  },
  {
   "cell_type": "code",
   "execution_count": 3,
   "metadata": {},
   "outputs": [
    {
     "name": "stdout",
     "output_type": "stream",
     "text": [
      "3\n",
      "5\n"
     ]
    }
   ],
   "source": [
    "print(lengthOfLongestSubstring(\"abcabcbb\")) # Expected: 3\n",
    "print(lengthOfLongestSubstring(\"tmmzuxt\")) # Expected:5"
   ]
  },
  {
   "cell_type": "markdown",
   "metadata": {},
   "source": [
    "# #3. Longest Palindromic Substring [flag, Dynamic Programming]\n",
    "Given a string s, find the longest palindromic substring in s. You may assume that the maximum length of s is 1000.\n",
    "\n",
    "Example 1:  \n",
    "Input: \"babad\"  \n",
    "Output: \"bab\"  \n",
    "Note: \"aba\" is also a valid answer.  \n",
    "\n",
    "Example 2:  \n",
    "Input: \"cbbd\"  \n",
    "Output: \"bb\"\n",
    "\n",
    "### Walkthrough:  \n",
    "Brute force. Given a string of 'n' length, choose all substrings possible from that string. Then check if that substring is  \n",
    "a palindrome. Checking is palindrome is 'n' time. The number of substrings in a string is n(n-1)/2. Thus the total time is  \n",
    "O(n^3).  \n",
    "\n",
    "### Analysis:  \n"
   ]
  },
  {
   "cell_type": "code",
   "execution_count": 5,
   "metadata": {},
   "outputs": [
    {
     "ename": "SyntaxError",
     "evalue": "unexpected EOF while parsing (<ipython-input-5-80d2c0db7322>, line 1)",
     "output_type": "error",
     "traceback": [
      "\u001b[1;36m  File \u001b[1;32m\"<ipython-input-5-80d2c0db7322>\"\u001b[1;36m, line \u001b[1;32m1\u001b[0m\n\u001b[1;33m    def longestPalindrome(s):\u001b[0m\n\u001b[1;37m                             ^\u001b[0m\n\u001b[1;31mSyntaxError\u001b[0m\u001b[1;31m:\u001b[0m unexpected EOF while parsing\n"
     ]
    }
   ],
   "source": [
    "def longestPalindrome(s):"
   ]
  },
  {
   "cell_type": "markdown",
   "metadata": {},
   "source": [
    "# #4. Container with Most Water [Two-Pointer]\n",
    "Given n non-negative integers a1, a2, ..., an , where each represents a point at coordinate (i, ai). n vertical lines are drawn such that the two endpoints of line i is at (i, ai) and (i, 0). Find two lines, which together with x-axis forms a container, such that the container contains the most water.\n",
    "\n",
    "Example:\n",
    "\n",
    "Input: [1,8,6,2,5,4,8,3,7]\n",
    "Output: 49"
   ]
  },
  {
   "cell_type": "code",
   "execution_count": 10,
   "metadata": {},
   "outputs": [],
   "source": [
    "# Works, but way too slow.\n",
    "# Brute force\n",
    "def brute_maxArea(height):\n",
    "    # type: List[int]\n",
    "    # rtype: int\n",
    "    max_area = -1\n",
    "\n",
    "    for i, value in enumerate(height):\n",
    "      \n",
    "        for j in range((i + 1), len(height)):\n",
    "            limiting_height = min(value, height[j])\n",
    "            area = (j - i) * limiting_height\n",
    "            max_area = max(max_area, area)\n",
    "    \n",
    "    return max_area"
   ]
  },
  {
   "cell_type": "code",
   "execution_count": 12,
   "metadata": {},
   "outputs": [],
   "source": [
    "# Two-Pointer Approach for O(n) single pass\n",
    "def maxArea(height):\n",
    "    left = 0\n",
    "    right = len(height) - 1\n",
    "    \n",
    "    max_area = -1\n",
    "    \n",
    "    while(left != right):\n",
    "        left_height = height[left]\n",
    "        right_height = height[right]\n",
    "        \n",
    "        current_area = min(left_height, right_height) * (right - left)\n",
    "        max_area = max(max_area, current_area)\n",
    "        \n",
    "        if left_height > right_height:\n",
    "            right -= 1\n",
    "        else:\n",
    "            left += 1\n",
    "    \n",
    "    return max_area  "
   ]
  },
  {
   "cell_type": "markdown",
   "metadata": {},
   "source": [
    "### Testing"
   ]
  },
  {
   "cell_type": "code",
   "execution_count": 13,
   "metadata": {},
   "outputs": [
    {
     "data": {
      "text/plain": [
       "49"
      ]
     },
     "execution_count": 13,
     "metadata": {},
     "output_type": "execute_result"
    }
   ],
   "source": [
    "height = [1,8,6,2,5,4,8,3,7]\n",
    "brute_maxArea(height)"
   ]
  },
  {
   "cell_type": "markdown",
   "metadata": {},
   "source": [
    "# #5. Sum of 3 [Flag]\n",
    "Given an array nums of n integers, are there elements a, b, c in nums such that a + b + c = 0? Find all unique triplets in the array which gives the sum of zero.\n",
    "\n",
    "Notice that the solution set must not contain duplicate triplets.\n",
    "\n",
    "#### Example 1:\n",
    "\n",
    "Input: nums = [-1,0,1,2,-1,-4]  \n",
    "Output: [ [-1,-1,2], [-1,0,1] ]  \n",
    "   \n",
    "#### Example 2:\n",
    "\n",
    "Input: nums = []  \n",
    "Output: []  \n",
    "\n",
    "#### Example 3:\n",
    "\n",
    "Input: nums = [0]  \n",
    "Output: []\n",
    "\n",
    "### Analysis:  \n",
    "\"More generally: n choose k for any fixed constant k is Θ(n^k), because it's equal to  \n",
    "n! / (k!(n - k)!) = n(n-1)(n-2)...(n-k+1) / k!  \n",
    "Which is a kth-degree polynomial in n with a nonzero leading coefficient.\"\n"
   ]
  },
  {
   "cell_type": "code",
   "execution_count": 14,
   "metadata": {},
   "outputs": [],
   "source": [
    "# a + b + c = 0\n",
    "# a + b = - c \n",
    "# Form a dictionary where key is (a + b), and value stored is the indices of a and b. O(n^2)\n",
    "# Then, loop through input array again and see if the dictionary contains [-c], if so add those 3 indices to answer set.\n",
    "# This should be O(n^2), a little better than O(n^3). Any n choose k problem is Θ(n^k)\n",
    "def sumOfThree(nums):\n",
    "    length = len(nums)\n",
    "    diction = dict()\n",
    "    tupleAnswers = dict()\n",
    "    \n",
    "    # Form dictionary, O(n^2)\n",
    "    for i in range(length):\n",
    "        for j in range((i + 1), length):\n",
    "            a = nums[i]\n",
    "            b = nums[j]\n",
    "            #=============\n",
    "          #  c = a + b\n",
    "           # if c in diction:\n",
    "            #    newIndexes = [i, j]\n",
    "             #   newIndexes.sort()\n",
    "             #   diction[c].append(newIndexes)\n",
    "            #===============\n",
    "            \n",
    "            diction[a + b] = [ i, j ] # ERROR!!! There is multiple ways to form [a + b]. Example -3 = 4 + -5, or - 2 + -1\n",
    "            # by using a dictionary we will overwrite one of those combinations and not find all pairs.\n",
    "    \n",
    "    # Search for complement matches in dictionary, O(n)\n",
    "    for i in range(length):\n",
    "        c = -(nums[i])\n",
    "        \n",
    "        if c in diction:\n",
    "            ab = diction[c]\n",
    "\n",
    "            # c is already in ab.\n",
    "            if i in ab:\n",
    "                continue\n",
    "            \n",
    "            # add index of 'c' to set of ab indices\n",
    "            ab.append(i)\n",
    "\n",
    "            # ab is list of valid answer indices, convert them into a list of actual values, sort that.\n",
    "            realNums = [ nums[ab[0]], nums[ab[1]], nums[ab[2]] ]\n",
    "            realNums.sort();\n",
    "            \n",
    "            tupleStuff = tuple(realNums)\n",
    "            tupleAnswers[tupleStuff] = [ tupleStuff[0], tupleStuff[1], tupleStuff[2]]\n",
    "   \n",
    "    return list(tupleAnswers.values())    "
   ]
  },
  {
   "cell_type": "markdown",
   "metadata": {},
   "source": [
    "# #6. Remove Nth Node from End of List [Flag]\n",
    "Given a linked list, remove the n-th node from the end of list and return its head. n will always be valid. Attempt in one pass. Method arguments are (head, n).\n",
    "\n",
    "#### Example 1:\n",
    "\n",
    "Given linked list: 1->2->3->4->5, and n = 2.  \n",
    "After removing the second node from the end, the linked list becomes 1->2->3->5.\n",
    "   \n",
    "\n",
    "### Analysis:  \n"
   ]
  },
  {
   "cell_type": "code",
   "execution_count": null,
   "metadata": {},
   "outputs": [],
   "source": [
    "class ListNode(object):\n",
    "    def __init__(self, val=0, next=None):\n",
    "        self.val = val\n",
    "        self.next = next\n",
    "        return"
   ]
  },
  {
   "cell_type": "markdown",
   "metadata": {},
   "source": [
    "# #7. Valid Parentheses [Stack]\n",
    "Given a string s containing just the characters '(', ')', '{', '}', '[' and ']', determine if the input string is valid.\n",
    "\n",
    "An input string is valid if:\n",
    "\n",
    "Open brackets must be closed by the same type of brackets.  \n",
    "Open brackets must be closed in the correct order.\n",
    "   \n",
    "\n",
    "### Analysis:  \n",
    "For loop done in O(n) time. Space used is O(n)"
   ]
  },
  {
   "cell_type": "code",
   "execution_count": 15,
   "metadata": {},
   "outputs": [],
   "source": [
    "def validParen(s):\n",
    "    stack = []\n",
    "    bracketMap = { \"(\":\")\", \"[\":\"]\", \"{\":\"}\" }\n",
    "    \n",
    "    for char in s:\n",
    "        if char in bracketMap:\n",
    "            stack.append(char)\n",
    "        elif char in bracketMap.values():\n",
    "            if stack == [] or char != bracketMap[stack.pop()]:\n",
    "                return False\n",
    "    # in case just '(' was passed in. Stack should be empty at end\n",
    "    return (stack == [])"
   ]
  },
  {
   "cell_type": "markdown",
   "metadata": {},
   "source": [
    "### Testing"
   ]
  },
  {
   "cell_type": "code",
   "execution_count": 17,
   "metadata": {},
   "outputs": [
    {
     "name": "stdout",
     "output_type": "stream",
     "text": [
      "True\n",
      "False\n",
      "False\n",
      "False\n"
     ]
    }
   ],
   "source": [
    "print(validParen(\"(){}\"))\n",
    "print(validParen(\"][]\"))\n",
    "print(validParen(\"(\"))\n",
    "print(validParen(\")\"))"
   ]
  },
  {
   "cell_type": "markdown",
   "metadata": {},
   "source": [
    "# #8. Merge Two Sorted Lists [Linked-List]\n",
    "Merge two sorted linked lists and return it as a new sorted list. The new list should be made by splicing together the nodes of the first two lists.\n",
    "\n",
    "Example:\n",
    "\n",
    "Input: 1->2->4, 1->3->4  \n",
    "Output: 1->1->2->3->4->4\n",
    "   \n",
    "\n",
    "### Analysis:  \n",
    "Use dummy node to keep track of start of list. O(n) time and space"
   ]
  },
  {
   "cell_type": "code",
   "execution_count": 19,
   "metadata": {},
   "outputs": [],
   "source": [
    "def mergeTwoLists(l1, l2):\n",
    "    # Always take the smaller of the two lists, iterate forward on the list you did take from, and repeat.\n",
    "    current = ListNode(0)\n",
    "    \n",
    "    #Dummy is used to keep the start of the list\n",
    "    dummy = current\n",
    "    \n",
    "    # keep comparing and adding smallest until a list runs out.\n",
    "    # Can also use: while( l1 and l2):\n",
    "    # in python we can simply use an object itself as a boolean, false if None. Much like a pointer in C \n",
    "    # being tested \n",
    "    while(l1 != None and l2 != None):\n",
    "        if(l1.val < l2.val):\n",
    "            current.next = l1\n",
    "            l1 = l1.next\n",
    "        else:\n",
    "            current.next = l2\n",
    "            l2 = l2.next\n",
    "        \n",
    "        # Advance current up one\n",
    "        current = current.next\n",
    "    \n",
    "    if(l1 == None):\n",
    "        current.next = l2\n",
    "    else:\n",
    "        current.next = l1\n",
    "    \n",
    "    return dummy.next"
   ]
  },
  {
   "cell_type": "code",
   "execution_count": 20,
   "metadata": {},
   "outputs": [],
   "source": [
    "# Recursive solution. Note, always return a node.\n",
    "def mergeTwoListsRecursive(l1, l2):\n",
    "    if(l1 == None):\n",
    "        return l2\n",
    "    if(l2 == None):\n",
    "        return l1\n",
    "    \n",
    "    if(l1.val < l2.val):\n",
    "        l1.next = mergeTwoListsRecursive(l1.next, l2)\n",
    "        return l1\n",
    "    else:\n",
    "        l2.next = mergeTwoListsRecrusive(l1, l2.next)\n",
    "        return l2"
   ]
  },
  {
   "cell_type": "markdown",
   "metadata": {},
   "source": [
    "# #9. Merge k Sorted Lists [Divide-Conquer, Linked-List]\n",
    "You are given an array of k linked-lists lists, each linked-list is sorted in ascending order.\n",
    "\n",
    "Merge all the linked-lists into one sorted linked-list and return it.\n",
    "\n",
    "#### Constraints:\n",
    "  \n",
    "k == lists.length  \n",
    "\n",
    "0 <= k <= 10^4  \n",
    "\n",
    "0 <= lists[i].length <= 500  \n",
    "\n",
    "-10^4 <= lists[i][j] <= 10^4  \n",
    "\n",
    "lists[i] is sorted in ascending order.  \n",
    "\n",
    "The sum of lists[i].length won't exceed 10^4.  \n",
    "\n",
    "### Explanation:  \n",
    "\n",
    "#### Iteratively Choose Smallest Node O( k N ):  \n",
    "In this method we are simply going to choose the smallest head node of each of the k lists. We keep doing this until there is no more nodes. The cost of choosing a single node is 'k', as we have to make k comparisons to choose one. We have to repeat this N times (each time we choose one, length is -1). This is similair to the \"Merge two sorted Linked Lists\" problem except we have more lists to choose the node from.\n",
    "\n",
    "\n",
    "#### Divide and Conquer O(N log k):  \n",
    "Remember in the problem \"Merge two sorted linked lists\" that we can join two lists in O(n) time. So if we use that method, join every pair of lists in the array, then keep doing that. Joining a pair of lists is simply O(n) time and we will repeat this log2K times. So that is the efficient runtime of O(N log K). In the choose smallest node method we have to compare all nodes K times for each node we take.  \n",
    "  \n",
    "Note: There is two ways to implement this. One is with a recursive splitting and merging akin to classic mergesort, and the other other is iteratively. The iterative solution is better as it uses O(1) space while the recursive solution uses the stack. The recursive solution is memory O(logk) as it will perform logk stack calls.\n",
    "![23_divide_and_conquer_new.png](attachment:23_divide_and_conquer_new.png)\n",
    "\n",
    "#### Priority Queue (N log k):  \n",
    "Simply put all the nodes into a priority queue. Then take them out and form a new sorted linked list. Remember, think of available data structures you can use. For each n in N you will have to use PQ insert which is log k, so N log k run time. This one feels like a copout lol.\n"
   ]
  },
  {
   "cell_type": "code",
   "execution_count": 21,
   "metadata": {},
   "outputs": [],
   "source": [
    "#DIVIDE AND CONQUER WITH ITERATION:\n",
    "\n",
    "# Definition for singly-linked list.\n",
    "# Just return the head at end.\n",
    "\n",
    "# class ListNode(object):\n",
    "#     def __init__(self, val=0, next=None):\n",
    "#         self.val = val\n",
    "#         self.next = next\n",
    "def mergeKLists(lists):\n",
    "        \"\"\"\n",
    "        :type lists: List[ListNode]\n",
    "        :rtype: ListNode\n",
    "        \"\"\"\n",
    "        count = len(lists)\n",
    "        \n",
    "        skip = 1 \n",
    "        # This unique counting setup will ensure we merge the right lists as we progress to list[0] for the final merge\n",
    "        while skip < count: \n",
    "            for i in range(0, count - skip, skip * 2):\n",
    "                lists[i] = mergePair(lists[i], lists[i + skip])\n",
    "            \n",
    "            skip *= 2\n",
    "            \n",
    "        if count > 0:\n",
    "            return lists[0]\n",
    "        else:\n",
    "            return None\n",
    "                \n",
    "                \n",
    "def mergePair(left, right):\n",
    "    # Return head of the newly merged list \n",
    "    dummy = ListNode(0)\n",
    "    current = dummy\n",
    "    \n",
    "    while (left and right):\n",
    "        # Remember to cycle the list you take from up one\n",
    "        if left.val < right.val:\n",
    "            current.next = left\n",
    "            left = left.next\n",
    "        else:\n",
    "            current.next = right\n",
    "            right.next\n",
    "            right = right.next\n",
    "        current = current.next\n",
    "        \n",
    "    if left == None:\n",
    "        current.next = right\n",
    "    else:\n",
    "        current.next = left\n",
    "        \n",
    "    return dummy.next\n",
    "    "
   ]
  },
  {
   "cell_type": "markdown",
   "metadata": {},
   "source": [
    "# #10. Search in Rotated Sorted Array [BinarySearch]\n",
    "You are given an integer array nums sorted in ascending order, and an integer target.  \n",
    "\n",
    "Suppose that nums is rotated at some pivot unknown to you beforehand (i.e., [0,1,2,4,5,6,7] might become [4,5,6,7,0,1,2]).  \n",
    "\n",
    "If target is found in the array return its index, otherwise, return -1.\n",
    "\n",
    "#### Constraints:\n",
    "1 <= nums.length <= 5000  \n",
    "\n",
    "-10^4 <= nums[i] <= 10^4  \n",
    "\n",
    "All values of nums are unique.  \n",
    "\n",
    "nums is guranteed to be rotated at some pivot.  \n",
    "\n",
    "-10^4 <= target <= 10^4\n",
    "\n",
    "### Explanation:  \n",
    "In order to run faster than brute force, O(n), we need to use binary search as it is O(logn), basically the only algo with a runtime quicker than 'n'.    \n",
    "\n",
    "First, we are going to find the 'pivot' of the array. This is the smallest element in the array. We find it with a modified binary search. We perform binary search but at each step, we check if the MIDPOINT is greater than the end right point. In a normally sorted array, this would never happen. If it happens in this case, we move the left point right after the midpoint. We eventually want left pointer to be equal to the smallest element in the array. If midpoint is actually smaller than the right, we make right equal to the midpoint.  \n",
    "After the first check, now we can reset our bounds for another binary search to locate the target. First, we must choose which side of the array to look in. We compare the target with far end point. After our bounds are set up correctly, we can then just literally do a normal binary search. "
   ]
  },
  {
   "cell_type": "code",
   "execution_count": 24,
   "metadata": {},
   "outputs": [],
   "source": [
    "def search(nums, target):\n",
    "    \"\"\"\n",
    "    :type nums: List[int]\n",
    "    :type target: int\n",
    "    :rtype: int\n",
    "    \"\"\"\n",
    "    # Always do initial checking of method\n",
    "    if(nums == None or len(nums) == 0):\n",
    "        return -1\n",
    "\n",
    "    # Find the pivot element of rotated array, the smallest element.\n",
    "    left = 0\n",
    "    right = len(nums) - 1\n",
    "\n",
    "    while(left < right):\n",
    "        # In python 3, / does 'true' division while // does 'int floor' normal division.\n",
    "        midpoint = left + (right - left) // 2\n",
    "\n",
    "        # See if the midpoint is greater than the right, Which should not happen in a normal sorted array.\n",
    "        if(nums[midpoint] > nums[right]):\n",
    "            left = midpoint + 1\n",
    "        else:\n",
    "            right = midpoint # - 1, what if very small array like [5, 1, 3]\n",
    "            \n",
    "    # Now 'start' is equal to the index of the smallest element in array, the pivot    \n",
    "    start = left\n",
    "    print(start)\n",
    "    left = 0\n",
    "    right = len(nums) - 1\n",
    "    \n",
    "    # Do a modified binary search to find the target. Decide which chunk of the array you're in\n",
    "    if(target <= nums[right]):\n",
    "        left = start\n",
    "    else:\n",
    "        right = start - 1  # what if start == 0? \n",
    "        \n",
    "    while(left <= right):\n",
    "        midpoint = left + (right - left) // 2\n",
    "        \n",
    "        if(target == nums[midpoint]):\n",
    "            return midpoint\n",
    "        \n",
    "        if(target < nums[midpoint]):\n",
    "            right = midpoint - 1\n",
    "        else:\n",
    "            left = midpoint + 1\n",
    "        \n",
    "    # target not in nums    \n",
    "    return -1"
   ]
  },
  {
   "cell_type": "markdown",
   "metadata": {},
   "source": [
    "### Testing"
   ]
  },
  {
   "cell_type": "code",
   "execution_count": 25,
   "metadata": {},
   "outputs": [
    {
     "name": "stdout",
     "output_type": "stream",
     "text": [
      "4\n",
      "6\n",
      "1\n",
      "0\n",
      "5\n",
      "5\n"
     ]
    }
   ],
   "source": [
    "nums = [4, 5, 6, 7, 0, 1, 2]\n",
    "print(search(nums, 2))\n",
    "\n",
    "nums = [5,1,3]\n",
    "print(search(nums, 5))\n",
    "\n",
    "nums = [5, 6, 7, 8, 9, 0]\n",
    "print(search(nums, 0))"
   ]
  },
  {
   "cell_type": "markdown",
   "metadata": {},
   "source": [
    "# #11. Combination Sum [DFS, Subsets]\n",
    "https://leetcode.com/problems/combination-sum/\n",
    "Given an array of distinct integers candidates and a target integer target, return a list of all unique combinations of candidates where the chosen numbers sum to target. You may return the combinations in any order.\n",
    "\n",
    "The same number may be chosen from candidates an unlimited number of times. Two combinations are unique if the frequency of at least one of the chosen numbers is different.\n",
    "\n",
    "It is guaranteed that the number of unique combinations that sum up to target is less than 150 combinations for the given input.  \n",
    "### Input/Output  \n",
    "Input: candidates = [2,3,6,7]  \n",
    "target = 7  \n",
    "Output: [[2,2,3],[7]]\n",
    "\n",
    "### Explanation:  \n",
    "Use DFS, depth first search. Keep exploring an element's path until it is exhausted, then continue with the next element. Do this recursively. This is a DFS with a twist, at each new level, we ONLY process the greatest_index as the past branches will have already explored this path. This removes redundancy (ie. 2 will explore 3, dont want 3 to also explore 2). Make a visual of the recursion tree first, much easier to write code afterwards. 3 cases in recursive function. "
   ]
  },
  {
   "cell_type": "code",
   "execution_count": 1,
   "metadata": {},
   "outputs": [],
   "source": [
    "def combinationSum(candidates, target):\n",
    "    \"\"\"\n",
    "    :type candidates: List[int]\n",
    "    :type target: int\n",
    "    :rtype: List[List[int]]\n",
    "    \"\"\"\n",
    "    # initilize DFS with empty 'path' and empty solution set\n",
    "    path = []\n",
    "    solutions = []\n",
    "    combination_dfs(candidates, target, path, 0, solutions)\n",
    "    \n",
    "    return solutions\n",
    "\n",
    "\n",
    "def combination_dfs(candidates, current_target, path, greatest_index, solutions):\n",
    "    # candidates: All original integers passed to fxn\n",
    "    # current_target: Remainder of target left. \n",
    "    # greatest_index: The right most index of array allowed to search (inclusive)\n",
    "    # solutions: list of list answers.\n",
    "    \n",
    "    # compute the remaining target for each member after greatest_index, then based on remainder there is 3 cases: \n",
    "    \n",
    "    # if > 0, recursive step.\n",
    "    # if < 0, continue. We have overshot target and no need to keep searching this path.\n",
    "    # if == 0, append current 'path' to solutions.\n",
    "    \n",
    "    for i in range((greatest_index), len(candidates)):\n",
    "        remainder = current_target - candidates[i]\n",
    "        new_path = path.copy()\n",
    "        new_path.append(candidates[i])\n",
    "          \n",
    "        if remainder == 0:\n",
    "            solutions.append(new_path)\n",
    "        \n",
    "        if(remainder < 0):\n",
    "            continue\n",
    "        \n",
    "        if(remainder > 0):\n",
    "            combination_dfs(candidates, remainder, new_path, i, solutions)\n",
    "    return solutions"
   ]
  },
  {
   "cell_type": "markdown",
   "metadata": {},
   "source": [
    "### Testing"
   ]
  },
  {
   "cell_type": "code",
   "execution_count": 2,
   "metadata": {},
   "outputs": [
    {
     "data": {
      "text/plain": [
       "[[2, 2, 2, 2], [2, 3, 3], [3, 5]]"
      ]
     },
     "metadata": {},
     "output_type": "display_data"
    }
   ],
   "source": [
    "example = [2 , 3, 5]\n",
    "target = 8\n",
    "display(combinationSum(example, target))"
   ]
  },
  {
   "cell_type": "markdown",
   "metadata": {},
   "source": [
    "# #12. Rotate Image [2D Array, Transpose]\n",
    "- https://leetcode.com/problems/rotate-image/  \n",
    "\n",
    "You are given an n x n 2D matrix representing an image, rotate the image by 90 degrees (clockwise).\n",
    "\n",
    "You have to rotate the image in-place, which means you have to modify the input 2D matrix directly. DO NOT allocate another 2D matrix and do the rotation.  \n",
    "  \n",
    "  Input: matrix = [[1,2,3],[4,5,6],[7,8,9]]  \n",
    "Output: [[7,4,1],[8,5,2],[9,6,3]]\n",
    "![rotateimage.JPG](rotateimage.JPG)\n",
    "### Explanation:  \n",
    "Doing in place is the hard part. Try to break down the rotation into steps or think of how the matrix changes in terms of rows and columns. We can tranpose either along classic rows or columns and then whatever we tranposes across, make sure to after the reversal then reverse either row/column to get the final rotated array. Transpose works across the diagonals remember that. Also for row reversal remember to keep bounds in mind. n // 2 works right before the middle element for odd n and in the right spot for equal n as well. "
   ]
  },
  {
   "cell_type": "code",
   "execution_count": 3,
   "metadata": {},
   "outputs": [],
   "source": [
    "def rotate_image(matrix):\n",
    "    \"\"\"\n",
    "    :type matrix: List[List[int]]\n",
    "    :rtype: None Do not return anything, modify matrix in-place instead.\n",
    "    \"\"\"\n",
    "    \n",
    "    # Transpose the matrix in place. Switch the x and y of each cell in OG matrix\n",
    "    # Switch along diagonal of matrix. Increase column along with row so we don't 'touch' progress already made\n",
    "    # NOTE: For 2d iteration, better to use actual integer iteration with range than normal i in list, as i is a list\n",
    "    # and we need INDICES to keep track of.\n",
    "    n = len(matrix) #NOTE: Remember this is outside of indices!!! (n - 1) = max row/column index\n",
    "    \n",
    "    for i in range(n):\n",
    "        for j in range(i, n):\n",
    "            temp = matrix[i][j]\n",
    "            matrix[i][j] = matrix [j][i]\n",
    "            matrix[j][i] = temp\n",
    "            \n",
    "            \n",
    "    # Now that matrix is transposed and each i-th row has become the i-th column, reverse each row.\n",
    "    # Only go up the n/2 column to perform switching without 'touching' the progress again\n",
    "    # can also just do: matrix[i].reverse(), lololololol\n",
    "    for i in range(n):\n",
    "        for j in range(n//2):\n",
    "            temp = matrix[i][j]\n",
    "            # Grab the back half of the row (remember - 1)\n",
    "            matrix[i][j] = matrix[i][n - j - 1]\n",
    "            matrix[i][n - j - 1] = temp"
   ]
  },
  {
   "cell_type": "markdown",
   "metadata": {},
   "source": [
    "### Testing"
   ]
  },
  {
   "cell_type": "code",
   "execution_count": 5,
   "metadata": {},
   "outputs": [
    {
     "data": {
      "text/plain": [
       "[[1, 2, 3], [4, 5, 6], [7, 8, 9]]"
      ]
     },
     "metadata": {},
     "output_type": "display_data"
    },
    {
     "data": {
      "text/plain": [
       "[[7, 4, 1], [8, 5, 2], [9, 6, 3]]"
      ]
     },
     "metadata": {},
     "output_type": "display_data"
    }
   ],
   "source": [
    "matrix = [[1,2,3],[4,5,6],[7,8,9]]\n",
    "display(matrix)\n",
    "rotate_image(matrix)\n",
    "display(matrix)"
   ]
  },
  {
   "cell_type": "markdown",
   "metadata": {},
   "source": [
    "# #13. Group Anagrams []\n",
    "- https://leetcode.com/problems/group-anagrams/  \n",
    "\n",
    "Given an array of strings strs, group the anagrams together. You can return the answer in any order.  \n",
    "\n",
    "\n",
    "An Anagram is a word or phrase formed by rearranging the letters of a different word or phrase, typically using all the original letters exactly once.  \n",
    "\n",
    "\n",
    " \n",
    "  \n",
    "- Example 1:\n",
    "  \n",
    "  \n",
    "Input: strs = [\"eat\",\"tea\",\"tan\",\"ate\",\"nat\",\"bat\"]\n",
    "  \n",
    "  Output: [[\"bat\"],[\"nat\",\"tan\"],[\"ate\",\"eat\",\"tea\"]]\n",
    "  \n",
    "  - Example 2:\n",
    "\n",
    "  \n",
    "  Input: strs = [\"\"]\n",
    "  \n",
    "  Output: [[\"\"]]\n",
    "  \n",
    " - Example 3:\n",
    "\n",
    "  \n",
    "  Input: strs = [\"a\"]\n",
    "  \n",
    "  Output: [[\"a\"]]\n",
    "\n",
    "### Explanation:  \n",
    "se a dictionary. Always think of how you can use a dictionary. Here, we sort the string which takes mlogm time. Then, we use that sorted string as a key with the value as a list of all strings that match that. The run time is O(n * mlogm), as we have to sort every string in the list. The dictionary allows instant lookup to see if letters have already been found."
   ]
  },
  {
   "cell_type": "code",
   "execution_count": 8,
   "metadata": {},
   "outputs": [],
   "source": [
    "def anagrams(strs): \n",
    "    \"\"\"\n",
    "    type strs: List[str]\n",
    "    :rtype: List[List[str]]\n",
    "    \"\"\"\n",
    "    n = len(strs)\n",
    "    solution = {}\n",
    "    \n",
    "    # Runtime: O(n * mlogm)\n",
    "    # Space: O(n * m)\n",
    "    for i in strs: # n\n",
    "        sorted_char = sorted(i) # m log m , where m is max length of word in strs\n",
    "        sorted_string = \"\".join(sorted_char)\n",
    "        \n",
    "        if (solution.get(sorted_string) == None): # O(1)\n",
    "            solution[sorted_string] = [i]\n",
    "        else: \n",
    "            solution[sorted_string].append(i)\n",
    "            \n",
    "    return list(solution.values())"
   ]
  },
  {
   "cell_type": "markdown",
   "metadata": {},
   "source": [
    "### Testing:"
   ]
  },
  {
   "cell_type": "code",
   "execution_count": 9,
   "metadata": {},
   "outputs": [
    {
     "data": {
      "text/plain": [
       "[['eat', 'tea', 'ate'], ['tan', 'nat'], ['bat']]"
      ]
     },
     "metadata": {},
     "output_type": "display_data"
    }
   ],
   "source": [
    "strs = [\"eat\",\"tea\",\"tan\",\"ate\",\"nat\",\"bat\"]\n",
    "display(anagrams(strs))"
   ]
  },
  {
   "cell_type": "markdown",
   "metadata": {},
   "source": [
    "# #14. Maximum Subarray [DP, Kadane's Algorithm]  \n",
    "\n",
    "Given an integer array nums, find the contiguous subarray (containing at least one number) which has the largest sum and return its sum.  \n",
    "\n",
    "\n",
    "Follow up: If you have figured out the O(n) solution, try coding another solution using the divide and conquer approach, which is more subtle.  \n",
    "\n",
    "\n",
    " \n",
    "\n",
    "- Example 1:\n",
    "  \n",
    "  \n",
    "Input: nums = [-2,1,-3,4,-1,2,1,-5,4]\n",
    "  \n",
    "  Output: 6\n",
    "  \n",
    "  Explanation: [4,-1,2,1] has the largest sum = 6.\n",
    "  \n",
    "    \n",
    "   - Example 2:\n",
    "\n",
    "  \n",
    "  Input: nums = [1]\n",
    "  \n",
    "  Output: 1\n",
    "  \n",
    "  - Example 3:\n",
    "\n",
    "  \n",
    "  Input: nums = [0]\n",
    "  \n",
    "  Output: 0\n",
    "\n",
    "### Explanation:  \n",
    "Runtime: O(n), Space: O(1)  \n",
    "Here we use Kadanes algorithm. It is a lightweight DP algorithm. The brute force is easy and O(n^2), how can we do better than this? Try to come up with a description of the subproblem of this hard problem. Reform the question to, \"given an index when trying to find max local subarray, should I include this index to 'm'? or should this index not include the deadwieght of the past indices?? We always compute the local max and then just compare it to a stored value for global max. Could also modify just a bit to return the indices of the max subarray. \n",
    "- M: the contigious subarray right behind the current index."
   ]
  },
  {
   "cell_type": "code",
   "execution_count": 11,
   "metadata": {},
   "outputs": [],
   "source": [
    "def maxSubArray(nums):\n",
    "    max_current = max_global = nums[0]\n",
    "\n",
    "    for i in range(1, len(nums)):\n",
    "        \n",
    "        # Either best option is to add current number to max OR just keep current number itself as new max\n",
    "        max_current = max(nums[i], max_current + nums[i])\n",
    "        \n",
    "        max_global = max(max_current, max_global)\n",
    "        \n",
    "    return max_global"
   ]
  },
  {
   "cell_type": "markdown",
   "metadata": {},
   "source": [
    "### Testing"
   ]
  },
  {
   "cell_type": "code",
   "execution_count": 12,
   "metadata": {},
   "outputs": [
    {
     "data": {
      "text/plain": [
       "6"
      ]
     },
     "metadata": {},
     "output_type": "display_data"
    },
    {
     "data": {
      "text/plain": [
       "-1"
      ]
     },
     "metadata": {},
     "output_type": "display_data"
    }
   ],
   "source": [
    "nums = [-2,1,-3,4,-1,2,1,-5,4]\n",
    "display(maxSubArray(nums))\n",
    "nums = [-1]\n",
    "display(maxSubArray(nums))"
   ]
  },
  {
   "cell_type": "markdown",
   "metadata": {},
   "source": [
    "# #15. Spiral Matrix [2D Array]\n",
    "\n",
    "Given an m x n matrix, return all elements of the matrix in spiral order.  \n",
    "\n",
    "\n",
    " \n",
    "\n",
    "Example 1:\n",
    "![spiralMatrix.JPG](spiralMatrix.JPG)\n",
    "\n",
    "Input: matrix = [[1,2,3],[4,5,6],[7,8,9]]  \n",
    "\n",
    "Output: [1,2,3,6,9,8,7,4,5]\n",
    "\n",
    "\n",
    "Input: matrix = [[1,2,3,4],[5,6,7,8],[9,10,11,12]]  \n",
    "\n",
    "Output: [1,2,3,4,8,12,11,10,9,5,6,7]\n",
    "\n",
    "### Explanation:    \n",
    "Runtime: O(n) Space: O(1) or O(n) if you count the return answer.\n",
    "This is one of the most straight forward medium difficulty questions. The biggest lesson here is the careful bounds checking and incrementing/decrementing. Note: the while loop conditional could be simplified to: \n",
    "- while(len(spiral) < totalMatrixSize)  \n",
    "  \n",
    "This would remove the need to think hard about when to stop. Also note the if null then return function for testing.  \n",
    "This could be refactored to use the limits THEMSELVES as current coordinates. Rename upmax to 'top', then just always use that in the right march loop, then leftmax to 'left' and use that when going upward. Then you could use for loops instead of whiles and wouldn't need the updating conditionals. This would be cleaner code and more readable.  "
   ]
  },
  {
   "cell_type": "code",
   "execution_count": 13,
   "metadata": {},
   "outputs": [],
   "source": [
    "def spiralOrder(matrix):\n",
    "        \"\"\"\n",
    "        :type matrix: List[List[int]]\n",
    "        :rtype: List[int]\n",
    "        \"\"\" \n",
    "        spiral = []\n",
    "        # Check if null!!\n",
    "        if not matrix:\n",
    "            return spiral\n",
    "        \n",
    "        rightmax = len(matrix[0])\n",
    "        downmax = len(matrix)\n",
    "        leftmax = -1\n",
    "        upmax = -1\n",
    "        \n",
    "        # i = current_row, j = current_column\n",
    "        i = j = 0\n",
    "        \n",
    "        while(True):\n",
    "            \n",
    "            # March right\n",
    "            while(j < rightmax):\n",
    "                spiral.append(matrix[i][j])\n",
    "                j += 1\n",
    "                \n",
    "            # Update limits, check if done (repeat this x4)\n",
    "            j -= 1 # Correct bounds\n",
    "            i += 1 # advance to next row down\n",
    "            upmax += 1\n",
    "            if(downmax == i):\n",
    "                break\n",
    "            \n",
    "            # March down \n",
    "            while(i < downmax):\n",
    "                spiral.append(matrix[i][j])\n",
    "                i += 1\n",
    "                \n",
    "            # Update\n",
    "            j -= 1 # Move one column to the left, (row stays the same)\n",
    "            i -= 1 # Correct bounds\n",
    "            rightmax -= 1\n",
    "            if(leftmax == j):\n",
    "                break\n",
    "                \n",
    "            # March Left\n",
    "            while(j > leftmax):\n",
    "                spiral.append(matrix[i][j])\n",
    "                j -= 1\n",
    "                \n",
    "            # Update\n",
    "            j += 1 # Correct bounds\n",
    "            i -= 1 # Move one row up\n",
    "            leftmax += 1\n",
    "            if(upmax == i):\n",
    "                break\n",
    "                \n",
    "            # March Up\n",
    "            while(i > upmax):\n",
    "                spiral.append(matrix[i][j])\n",
    "                i -= 1\n",
    "                \n",
    "            # Update\n",
    "            j += 1 # Move one column right\n",
    "            i += 1 # Correct bounds\n",
    "            downmax -= 1\n",
    "            if(rightmax == j):\n",
    "                break\n",
    "                \n",
    "        return spiral"
   ]
  },
  {
   "cell_type": "markdown",
   "metadata": {},
   "source": [
    "### Testing"
   ]
  },
  {
   "cell_type": "code",
   "execution_count": 16,
   "metadata": {},
   "outputs": [
    {
     "data": {
      "text/plain": [
       "[1, 2, 3, 6, 9, 8, 7, 4, 5]"
      ]
     },
     "metadata": {},
     "output_type": "display_data"
    },
    {
     "data": {
      "text/plain": [
       "[1, 2, 3, 4, 8, 12, 11, 10, 9, 5, 6, 7]"
      ]
     },
     "metadata": {},
     "output_type": "display_data"
    }
   ],
   "source": [
    "matrix = [[1,2,3],[4,5,6],[7,8,9]]\n",
    "display(spiralOrder(matrix))\n",
    "\n",
    "matrix = [[1,2,3,4],[5,6,7,8],[9,10,11,12]]\n",
    "display(spiralOrder(matrix))"
   ]
  },
  {
   "cell_type": "markdown",
   "metadata": {},
   "source": [
    "# #16. Jump Game []\n",
    "Given an array of non-negative integers nums, you are initially positioned at the first index of the array.\n",
    "Each element in the array represents your maximum jump length at that position.\n",
    "Determine if you are able to reach the last index.  \n",
    "  \n",
    "    Example 1:\n",
    "  \n",
    "  \n",
    "Input: nums = [2,3,1,1,4]  \n",
    "\n",
    "  \n",
    "  Output: true\n",
    "  \n",
    "  Explanation: Jump 1 step from index 0 to 1, then 3 steps to the last index.\n",
    "  \n",
    "    \n",
    "    Example 2:\n",
    "\n",
    "  \n",
    "  Input: nums = [3,2,1,0,4]\n",
    "  \n",
    "  Output: false\n",
    "  \n",
    "  Explanation: You will always arrive at index 3 no matter what. Its maximum jump length is 0, which makes it impossible to reach the last index.\n",
    "### Explanation:  "
   ]
  },
  {
   "cell_type": "code",
   "execution_count": 17,
   "metadata": {},
   "outputs": [],
   "source": [
    "def canJump(nums):\n",
    "    # start(inclusive), stop(exclusive), step\n",
    "    # can use negative step to go backwards\n",
    "\n",
    "    current_distance = 0\n",
    "    \n",
    "    for i in range(len(nums) - 2, -1, -1):\n",
    "        current_distance += 1\n",
    "        \n",
    "        if(current_distance <= nums[i]):\n",
    "            current_distance = 0\n",
    "        \n",
    "    if current_distance == 0:\n",
    "        return True\n",
    "    else: \n",
    "        return False"
   ]
  },
  {
   "cell_type": "markdown",
   "metadata": {},
   "source": [
    "### Testing"
   ]
  },
  {
   "cell_type": "code",
   "execution_count": 19,
   "metadata": {},
   "outputs": [
    {
     "data": {
      "text/plain": [
       "True"
      ]
     },
     "metadata": {},
     "output_type": "display_data"
    },
    {
     "data": {
      "text/plain": [
       "False"
      ]
     },
     "metadata": {},
     "output_type": "display_data"
    }
   ],
   "source": [
    "nums = [2,3,1,1,4]\n",
    "display(canJump(nums))\n",
    "\n",
    "nums = [3,2,1,0,4]\n",
    "display(canJump(nums))"
   ]
  },
  {
   "cell_type": "code",
   "execution_count": null,
   "metadata": {},
   "outputs": [],
   "source": []
  }
 ],
 "metadata": {
  "kernelspec": {
   "display_name": "Python 3",
   "language": "python",
   "name": "python3"
  },
  "language_info": {
   "codemirror_mode": {
    "name": "ipython",
    "version": 3
   },
   "file_extension": ".py",
   "mimetype": "text/x-python",
   "name": "python",
   "nbconvert_exporter": "python",
   "pygments_lexer": "ipython3",
   "version": "3.8.3"
  }
 },
 "nbformat": 4,
 "nbformat_minor": 4
}
